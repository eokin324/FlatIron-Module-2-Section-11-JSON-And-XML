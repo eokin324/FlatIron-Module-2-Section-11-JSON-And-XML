{
 "cells": [
  {
   "cell_type": "code",
   "execution_count": 1,
   "metadata": {},
   "outputs": [],
   "source": [
    "def fib(n):\n",
    "    if n < 1:\n",
    "        return \"N must be an integer greater then 1\"\n",
    "    elif n in [1,2]:\n",
    "            return 1\n",
    "    else:\n",
    "        return fib(n-1) + fib(n-2)"
   ]
  },
  {
   "cell_type": "code",
   "execution_count": 2,
   "metadata": {},
   "outputs": [
    {
     "name": "stdout",
     "output_type": "stream",
     "text": [
      "1\n",
      "1\n",
      "2\n",
      "3\n",
      "5\n",
      "8\n",
      "13\n",
      "21\n",
      "34\n"
     ]
    }
   ],
   "source": [
    "for i in range(1, 10):\n",
    "    print(fib(i))"
   ]
  },
  {
   "cell_type": "markdown",
   "metadata": {},
   "source": [
    "Write a function that takes a nested list and flattens it to a list of ints, floats and strings. For example the nested list [1,[2,3[4,5,6]], 7, [8], [9,10]] would become [1,2,3,4,5,6,7,8,9,10] or [1,2[3,4,[5]]] would become [1,2,3,4,5]."
   ]
  },
  {
   "cell_type": "code",
   "execution_count": 3,
   "metadata": {},
   "outputs": [
    {
     "name": "stdout",
     "output_type": "stream",
     "text": [
      "Current L: [1, [2, 3, [4, 5, 6]], 7, [8], [9, 10]]\n",
      "Current L: [2, 3, [4, 5, 6]]\n",
      "Current L: [4, 5, 6]\n",
      "Current L: [8]\n",
      "Current L: [9, 10]\n"
     ]
    },
    {
     "data": {
      "text/plain": [
       "[1, 2, 3, 4, 5, 6, 7, 8, 9, 10]"
      ]
     },
     "execution_count": 3,
     "metadata": {},
     "output_type": "execute_result"
    }
   ],
   "source": [
    "def flat_list(L, result=None, print_results=True):\n",
    "    if result is None:\n",
    "        result = []\n",
    "    if print_results:\n",
    "        print('Current L:', L) #Optional, to display process\n",
    "    for i in L:\n",
    "        if type(i) == list:\n",
    "            flat_list(i, result)\n",
    "        else:\n",
    "            result.append(i)\n",
    "    return result\n",
    "L = [1,[2,3,[4,5,6]], 7, [8], [9,10]]\n",
    "flat_list(L)"
   ]
  }
 ],
 "metadata": {
  "kernelspec": {
   "display_name": "Python 3",
   "language": "python",
   "name": "python3"
  },
  "language_info": {
   "codemirror_mode": {
    "name": "ipython",
    "version": 3
   },
   "file_extension": ".py",
   "mimetype": "text/x-python",
   "name": "python",
   "nbconvert_exporter": "python",
   "pygments_lexer": "ipython3",
   "version": "3.7.3"
  }
 },
 "nbformat": 4,
 "nbformat_minor": 2
}
